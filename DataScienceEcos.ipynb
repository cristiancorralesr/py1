{
 "cells": [
  {
   "cell_type": "markdown",
   "id": "9d86b37c-c122-4748-804c-ce3c0a0a380f",
   "metadata": {},
   "source": [
    "# Data Science Tools and Ecosystem"
   ]
  },
  {
   "cell_type": "markdown",
   "id": "d6817808-6ef1-4f6b-8388-b3aed61bc8a1",
   "metadata": {},
   "source": [
    "In this notebook, Data Sciencie Tools and Ecosystem are summarized"
   ]
  },
  {
   "cell_type": "markdown",
   "id": "8c8685b6-e093-426f-986a-80b0028710d5",
   "metadata": {},
   "source": [
    "**Objectives**\n",
    "- List popular languages for DS\n",
    "- List commonly used libraries for DS\n",
    "- list main DS tools"
   ]
  },
  {
   "cell_type": "markdown",
   "id": "36c2b394-0644-44cc-8179-64a55c1687d6",
   "metadata": {},
   "source": [
    "Some of the popular languages that Data Scientist use are:"
   ]
  },
  {
   "cell_type": "markdown",
   "id": "20b0db9e-5dfe-48d9-a119-94da7f21d93d",
   "metadata": {},
   "source": [
    "1. Rstudio\n",
    "2. Python\n",
    "3. Julia"
   ]
  },
  {
   "cell_type": "markdown",
   "id": "1d4844cf-bc37-4b83-a339-1424f2266b44",
   "metadata": {},
   "source": [
    "Some of the commonly used libraries used by Data Scientists include:\n",
    "1. Pandas\n",
    "2. Numpy\n",
    "3. Seaborn\n",
    "4. data.table\n",
    "5. Claret"
   ]
  },
  {
   "cell_type": "markdown",
   "id": "aa44223c-640a-47eb-8d30-b0c08cddfd88",
   "metadata": {},
   "source": [
    "| Data Science Tools    | \n",
    "| -------- | \n",
    "| Git  | \n",
    "| Visual Studio Code | \n",
    "| GitLab    | \n",
    "\n"
   ]
  },
  {
   "cell_type": "markdown",
   "id": "d1926f62-2236-4666-81d2-2a7f543b5ec9",
   "metadata": {},
   "source": [
    "### Below are a few examples of evaluating arithmetic expressions in Python"
   ]
  },
  {
   "cell_type": "code",
   "execution_count": 9,
   "id": "ba6763d3-05e1-4927-a402-991730c9a7da",
   "metadata": {},
   "outputs": [
    {
     "data": {
      "text/plain": [
       "17"
      ]
     },
     "execution_count": 9,
     "metadata": {},
     "output_type": "execute_result"
    }
   ],
   "source": [
    "#his a simple arithmetic expression to mutiply then add integers\n",
    "(3*4)+5"
   ]
  },
  {
   "cell_type": "code",
   "execution_count": 7,
   "id": "35aa1d79-2d43-497d-b940-21db31398573",
   "metadata": {},
   "outputs": [
    {
     "data": {
      "text/plain": [
       "21"
      ]
     },
     "execution_count": 7,
     "metadata": {},
     "output_type": "execute_result"
    }
   ],
   "source": [
    "7+7+7"
   ]
  },
  {
   "cell_type": "code",
   "execution_count": 10,
   "id": "4fedf89d-7608-4fb8-8bbd-e45105e2ef6c",
   "metadata": {},
   "outputs": [
    {
     "data": {
      "text/plain": [
       "3.3333333333333335"
      ]
     },
     "execution_count": 10,
     "metadata": {},
     "output_type": "execute_result"
    }
   ],
   "source": [
    "# This will convert 200 minutes to hours by diving by 60\n",
    "200/60"
   ]
  },
  {
   "cell_type": "markdown",
   "id": "378726de-f39f-4702-b1cc-7867a34c0b32",
   "metadata": {},
   "source": [
    "## Author\n",
    "Cristian Corrales"
   ]
  },
  {
   "cell_type": "code",
   "execution_count": null,
   "id": "e14407aa-1e47-454e-90cc-e5c732ee46bd",
   "metadata": {},
   "outputs": [],
   "source": []
  }
 ],
 "metadata": {
  "kernelspec": {
   "display_name": "Python 3 (ipykernel)",
   "language": "python",
   "name": "python3"
  },
  "language_info": {
   "codemirror_mode": {
    "name": "ipython",
    "version": 3
   },
   "file_extension": ".py",
   "mimetype": "text/x-python",
   "name": "python",
   "nbconvert_exporter": "python",
   "pygments_lexer": "ipython3",
   "version": "3.12.3"
  }
 },
 "nbformat": 4,
 "nbformat_minor": 5
}
